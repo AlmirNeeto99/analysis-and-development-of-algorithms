{
 "cells": [
  {
   "cell_type": "markdown",
   "metadata": {
    "id": "EoORkOphIMc-"
   },
   "source": [
    "Algoritmos"
   ]
  },
  {
   "cell_type": "code",
   "execution_count": null,
   "metadata": {
    "id": "dwcSIPydC8pn"
   },
   "outputs": [],
   "source": [
    "# to do\n",
    "def knapSackNaive(W, P, c):\n",
    "    pass\n",
    "\n",
    "\n",
    "# to do\n",
    "def knapSackMem(W, P, c):\n",
    "    pass\n",
    "\n",
    "\n",
    "# to do\n",
    "def knapSacTab(W, P, c):\n",
    "    pass"
   ]
  },
  {
   "cell_type": "markdown",
   "metadata": {
    "id": "D3feVyjtAXoc"
   },
   "source": [
    "Data Colection"
   ]
  },
  {
   "cell_type": "code",
   "execution_count": null,
   "metadata": {
    "colab": {
     "base_uri": "https://localhost:8080/"
    },
    "id": "Z9Vx0GqkAYAV",
    "outputId": "becafd26-76c8-4557-b784-73b8f04598bd"
   },
   "outputs": [],
   "source": [
    "import time\n",
    "from numpy import random\n",
    "\n",
    "WEIGHT_DOMAIN = 100\n",
    "PROFIT_DOMAIN = 1000\n",
    "CAPACITY_PROBABILITY = 0.3\n",
    "\n",
    "# defines the number of times each algorithm will be processed to obtain the average time\n",
    "num_rounds = 5\n",
    "\n",
    "alg_results = dict()\n",
    "\n",
    "\n",
    "# calculates the executions average time\n",
    "def avgTime(func, size, debug=True):\n",
    "    t = 0\n",
    "    for i in range(num_rounds):\n",
    "        random.seed(size + i)\n",
    "        W = list(random.randint(WEIGHT_DOMAIN, size=size))\n",
    "        P = list(random.randint(PROFIT_DOMAIN, size=size))\n",
    "        c = random.randint(int(CAPACITY_PROBABILITY * size) * WEIGHT_DOMAIN)\n",
    "        start = time.time()\n",
    "        p = func(W, P, c)\n",
    "        end = time.time()\n",
    "        t += end - start\n",
    "\n",
    "        if debug:\n",
    "            ##create a variable to store the debug results\n",
    "            if \"DR\" not in globals():\n",
    "                global DR\n",
    "                DR = dict()\n",
    "\n",
    "            ##add the result or check if it is the same\n",
    "            if (size, i) not in DR:\n",
    "                DR[(size, i)] = p\n",
    "            else:\n",
    "                assert p == DR[(size, i)]\n",
    "\n",
    "    return t / num_rounds\n",
    "\n",
    "\n",
    "# defines the algorithms to be processed\n",
    "algorithms = [knapSackNaive, knapSackMem, knapSacTab]\n",
    "\n",
    "sizes = [5, 10, 15, 20, 25]\n",
    "# sizes = [100,200,300,400,500]\n",
    "\n",
    "mapSizeToTime = dict()\n",
    "for i in range(len(sizes)):\n",
    "    print(f\"Starting collect {i+1}\")\n",
    "\n",
    "    # map list size to algorithm average time\n",
    "    for algorithm in algorithms:\n",
    "        print(\"  > \", algorithm.__name__)\n",
    "        mapSizeToTime[f\"{algorithm.__name__ }##{sizes[i]}\"] = avgTime(\n",
    "            algorithm, sizes[i], True\n",
    "        )\n",
    "    print(\"\")\n",
    "\n",
    "print(f\"Finish data collection\")"
   ]
  },
  {
   "cell_type": "markdown",
   "metadata": {
    "id": "UGjqC7swho85"
   },
   "source": [
    "Gráfico"
   ]
  },
  {
   "cell_type": "code",
   "execution_count": null,
   "metadata": {
    "colab": {
     "base_uri": "https://localhost:8080/",
     "height": 541
    },
    "id": "WArLUIBdhqQ4",
    "outputId": "9b56f5d4-4b73-4e05-8b7b-a853fafd1882"
   },
   "outputs": [],
   "source": [
    "import seaborn as sns\n",
    "import matplotlib.pyplot as plt\n",
    "import pandas as pd\n",
    "\n",
    "df = pd.DataFrame.from_dict(mapSizeToTime, orient=\"index\", columns=[\"Time\"])\n",
    "df[\"Algorithm\"] = [i.split(\"##\")[0] for i in df.index]\n",
    "df[\"Size\"] = [int(i.split(\"##\")[1]) for i in df.index]\n",
    "df\n",
    "\n",
    "# Defines font size and line width\n",
    "sns.set(font_scale=1, style=\"ticks\", rc={\"lines.linewidth\": 2})\n",
    "\n",
    "# Defines plot size\n",
    "plt.rcParams[\"figure.figsize\"] = [20, 10]\n",
    "\n",
    "chart = sns.lineplot(x=\"Size\", y=\"Time\", hue=\"Algorithm\", data=df)\n",
    "\n",
    "# plt.yscale('log')\n",
    "fig = plt.figure()\n",
    "chart.set(xticks=[i for i in df.Size])\n",
    "plt.show()"
   ]
  }
 ],
 "metadata": {
  "colab": {
   "provenance": []
  },
  "kernelspec": {
   "display_name": "Python 3",
   "name": "python3"
  }
 },
 "nbformat": 4,
 "nbformat_minor": 0
}

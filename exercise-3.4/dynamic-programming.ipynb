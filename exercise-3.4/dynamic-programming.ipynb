{
 "cells": [
  {
   "cell_type": "markdown",
   "metadata": {
    "id": "EoORkOphIMc-"
   },
   "source": [
    "Algoritmos"
   ]
  },
  {
   "cell_type": "code",
   "execution_count": null,
   "metadata": {},
   "outputs": [],
   "source": [
    "import numpy as np"
   ]
  },
  {
   "cell_type": "code",
   "execution_count": null,
   "metadata": {
    "id": "dwcSIPydC8pn"
   },
   "outputs": [],
   "source": [
    "def knapNaiveRec(W: list[int], P: list[int], c: int, i: int):\n",
    "    if i == 0 or c == 0:\n",
    "        return 0\n",
    "    current_item = i - 1\n",
    "    if W[current_item] > c:\n",
    "        return knapNaiveRec(W, P, c, current_item)\n",
    "    return max(\n",
    "        P[current_item] + knapNaiveRec(W, P, c - W[current_item], current_item),\n",
    "        knapNaiveRec(W, P, c, current_item),\n",
    "    )\n",
    "\n",
    "\n",
    "def knapSackNaive(W: list[int], P: list[int], c: int):\n",
    "    i = len(W)\n",
    "    return knapNaiveRec(W, P, c, i)\n",
    "\n",
    "\n",
    "def knapSackMemRec(W: list[int], P: list[int], c: int, i: int, M: dict):\n",
    "    if i == 0 or c == 0:\n",
    "        return 0\n",
    "    current_item = i - 1\n",
    "    if (c, i) in M:\n",
    "        return M[(c, i)]\n",
    "    if W[current_item] > c:\n",
    "        result = knapSackMemRec(W, P, c, current_item, M)\n",
    "        M[(c, i)] = result\n",
    "        return result\n",
    "    result = max(\n",
    "        P[current_item] + knapSackMemRec(W, P, c - W[current_item], current_item, M),\n",
    "        knapSackMemRec(W, P, c, current_item, M),\n",
    "    )\n",
    "    M[(c, i)] = result\n",
    "    return result\n",
    "\n",
    "\n",
    "def knapSackMem(W: list[int], P: list[int], c: int):\n",
    "    i = len(W)\n",
    "    M = dict()\n",
    "    return knapSackMemRec(W, P, c, i, M)\n",
    "\n",
    "\n",
    "def knapSacTab(W: list[int], P: list[int], c: int):\n",
    "    number_of_columns = c + 1\n",
    "    W2 = [0] + W\n",
    "    P2 = [0] + P\n",
    "    number_of_rows = len(W2)\n",
    "\n",
    "    T = np.zeros((number_of_rows, number_of_columns), dtype=np.int32)\n",
    "\n",
    "    for i in range(number_of_rows):\n",
    "        for j in range(number_of_columns):\n",
    "            if i == 0 or j == 0:\n",
    "                continue\n",
    "            if W2[i] <= j:\n",
    "                T[i, j] = max(T[i - 1, j], P2[i] + T[i - 1, j - W2[i]])\n",
    "            else:\n",
    "                T[i, j] = T[i - 1, j]\n",
    "    best_items = searchBestItems(T, W2)\n",
    "    result = 0\n",
    "    for item in best_items:\n",
    "        result += P2[item]\n",
    "    return result\n",
    "\n",
    "\n",
    "def searchBestItems(T, W: list[int]):\n",
    "    result = []\n",
    "    shape = T.shape\n",
    "    i = shape[0] - 1\n",
    "    j = shape[1] - 1\n",
    "    while i > 0 and j > 0:\n",
    "        if T[i, j] != T[i - 1, j]:\n",
    "            result.append(i)\n",
    "            j -= W[i]\n",
    "        i -= 1\n",
    "    return result"
   ]
  },
  {
   "cell_type": "markdown",
   "metadata": {
    "id": "D3feVyjtAXoc"
   },
   "source": [
    "Data Colection"
   ]
  },
  {
   "cell_type": "code",
   "execution_count": null,
   "metadata": {
    "colab": {
     "base_uri": "https://localhost:8080/"
    },
    "id": "Z9Vx0GqkAYAV",
    "outputId": "becafd26-76c8-4557-b784-73b8f04598bd"
   },
   "outputs": [],
   "source": [
    "import time\n",
    "from numpy import random\n",
    "\n",
    "WEIGHT_DOMAIN = 10\n",
    "PROFIT_DOMAIN = 10\n",
    "CAPACITY_PROBABILITY = 0.3\n",
    "\n",
    "# defines the number of times each algorithm will be processed to obtain the average time\n",
    "num_rounds = 5\n",
    "\n",
    "alg_results = dict()\n",
    "\n",
    "\n",
    "# calculates the executions average time\n",
    "def avgTime(func, size, debug=True):\n",
    "    t = 0\n",
    "    for i in range(num_rounds):\n",
    "        random.seed(size + i)\n",
    "        W = list(random.randint(WEIGHT_DOMAIN, size=size))\n",
    "        P = list(random.randint(PROFIT_DOMAIN, size=size))\n",
    "        c = random.randint(int(CAPACITY_PROBABILITY * size) * WEIGHT_DOMAIN)\n",
    "        start = time.time()\n",
    "        p = func(W, P, c)\n",
    "        # print(func.__name__, size, i, p)\n",
    "        end = time.time()\n",
    "        t += end - start\n",
    "\n",
    "        if debug:\n",
    "            # create a variable to store the debug results\n",
    "            if \"DR\" not in globals():\n",
    "                global DR\n",
    "                DR = dict()\n",
    "\n",
    "            # add the result or check if it is the same\n",
    "            if (size, i) not in DR:\n",
    "                DR[(size, i)] = p\n",
    "            else:\n",
    "                # print(\"=======================\")\n",
    "                # print(\"-> Atual:\", p)\n",
    "                # print(\"-> Primeiro:\", DR[(size, i)])\n",
    "                # print(\"-> Size:\", size)\n",
    "                # print(\"-> Iteração:\", i)\n",
    "                assert p == DR[(size, i)]\n",
    "\n",
    "    return t / num_rounds\n",
    "\n",
    "\n",
    "# defines the algorithms to be processed\n",
    "algorithms = [\n",
    "    knapSackNaive,\n",
    "    knapSackMem,\n",
    "    knapSacTab,\n",
    "]\n",
    "\n",
    "sizes = [50, 75, 100, 250]\n",
    "# sizes = [100,200,300,400,500]\n",
    "\n",
    "mapSizeToTime = dict()\n",
    "for i in range(len(sizes)):\n",
    "    print(f\"Starting collect {i+1}\")\n",
    "\n",
    "    # map list size to algorithm average time\n",
    "    for algorithm in algorithms:\n",
    "        print(\"  > \", algorithm.__name__)\n",
    "        mapSizeToTime[f\"{algorithm.__name__ }##{sizes[i]}\"] = avgTime(\n",
    "            algorithm, sizes[i], True\n",
    "        )\n",
    "    print(\"\")\n",
    "\n",
    "print(\"Finish data collection\")"
   ]
  },
  {
   "cell_type": "markdown",
   "metadata": {
    "id": "UGjqC7swho85"
   },
   "source": [
    "Gráfico"
   ]
  },
  {
   "cell_type": "code",
   "execution_count": null,
   "metadata": {
    "colab": {
     "base_uri": "https://localhost:8080/",
     "height": 541
    },
    "id": "WArLUIBdhqQ4",
    "outputId": "9b56f5d4-4b73-4e05-8b7b-a853fafd1882"
   },
   "outputs": [],
   "source": [
    "import seaborn as sns\n",
    "import matplotlib.pyplot as plt\n",
    "import pandas as pd\n",
    "\n",
    "df = pd.DataFrame.from_dict(mapSizeToTime, orient=\"index\", columns=[\"Time\"])\n",
    "df[\"Algorithm\"] = [i.split(\"##\")[0] for i in df.index]\n",
    "df[\"Size\"] = [int(i.split(\"##\")[1]) for i in df.index]\n",
    "df\n",
    "\n",
    "# Defines font size and line width\n",
    "sns.set(font_scale=1, style=\"ticks\", rc={\"lines.linewidth\": 2})\n",
    "\n",
    "# Defines plot size\n",
    "plt.rcParams[\"figure.figsize\"] = [20, 10]\n",
    "\n",
    "chart = sns.lineplot(x=\"Size\", y=\"Time\", hue=\"Algorithm\", data=df)\n",
    "\n",
    "# plt.yscale('log')\n",
    "fig = plt.figure()\n",
    "chart.set(xticks=[i for i in df.Size])\n",
    "plt.show()"
   ]
  }
 ],
 "metadata": {
  "colab": {
   "provenance": []
  },
  "kernelspec": {
   "display_name": "exercise-3-4",
   "language": "python",
   "name": "python3"
  },
  "language_info": {
   "codemirror_mode": {
    "name": "ipython",
    "version": 3
   },
   "file_extension": ".py",
   "mimetype": "text/x-python",
   "name": "python",
   "nbconvert_exporter": "python",
   "pygments_lexer": "ipython3",
   "version": "3.13.2"
  }
 },
 "nbformat": 4,
 "nbformat_minor": 0
}

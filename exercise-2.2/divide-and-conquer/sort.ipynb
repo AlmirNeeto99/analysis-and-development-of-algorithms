{
  "cells": [
    {
      "cell_type": "markdown",
      "metadata": {
        "id": "kc-BqatvNTFH"
      },
      "source": [
        "Algoritmos\n"
      ]
    },
    {
      "cell_type": "code",
      "execution_count": null,
      "metadata": {
        "id": "uc3x3OuoNRC8"
      },
      "outputs": [],
      "source": [
        "def lomuto_partition(arr: list[int], left: int, right: int):\n",
        "    pass\n",
        "\n",
        "\n",
        "def haore_partition(arr: list[int]):\n",
        "    pass\n",
        "\n",
        "\n",
        "def merge(a: list[int], b: list[int]) -> list[int]:\n",
        "    max_len = len(a) + len(b)\n",
        "    merged = []\n",
        "    i, j = 0, 0\n",
        "\n",
        "    while len(merged) < max_len:\n",
        "\n",
        "        if i >= len(a):\n",
        "            merged.append(b[j])\n",
        "            j += 1\n",
        "        elif j >= len(b):\n",
        "            merged.append(a[i])\n",
        "            i += 1\n",
        "        else:\n",
        "            if a[i] <= b[j]:\n",
        "                merged.append(a[i])\n",
        "                i += 1\n",
        "            elif b[j] <= a[i]:\n",
        "                merged.append(b[j])\n",
        "                j += 1\n",
        "    return merged\n",
        "\n",
        "\n",
        "def merge_sort(arr):\n",
        "    arr_len = len(arr)\n",
        "    if arr_len != 1:\n",
        "        size = arr_len // 2\n",
        "        start = arr[:size]\n",
        "        end = arr[size:]\n",
        "        return merge(merge_sort(start), merge_sort(end))\n",
        "    return arr\n",
        "\n",
        "\n",
        "def quick_sort(arr):\n",
        "    return arr\n",
        "\n",
        "\n",
        "def quick_sort_lomuto(arr):\n",
        "    return arr\n",
        "\n",
        "\n",
        "def quick_sort_hoare(arr):\n",
        "    return arr"
      ]
    },
    {
      "cell_type": "markdown",
      "metadata": {
        "id": "Lhhc47nBNWmH"
      },
      "source": [
        "Coleta dados\n"
      ]
    },
    {
      "cell_type": "code",
      "execution_count": null,
      "metadata": {
        "colab": {
          "base_uri": "https://localhost:8080/"
        },
        "id": "amdWV16iNWyy",
        "outputId": "4ad1cecd-8f0f-4e0b-a765-590a362a4b35"
      },
      "outputs": [],
      "source": [
        "import time\n",
        "from numpy import random\n",
        "\n",
        "\n",
        "# scope of the randomness\n",
        "DOMAIN = 9999999\n",
        "\n",
        "# defines the number of times each algorithm will be processed to find the average time\n",
        "num_rounds = 500\n",
        "\n",
        "alg_results = dict()\n",
        "\n",
        "\n",
        "# calculates the executions average time\n",
        "def avgTime(func, size, debug=False):\n",
        "    t = 0\n",
        "    for i in range(num_rounds):\n",
        "        random.seed(size + i)\n",
        "        # create a list with random numbers\n",
        "        dataList = list(random.randint(DOMAIN, size=size))\n",
        "        L = dataList.copy()\n",
        "        start = time.time()\n",
        "        L = func(L)\n",
        "        end = time.time()\n",
        "        t += end - start\n",
        "\n",
        "        if debug:\n",
        "            assert L == sorted(L), \"Non sorted\"\n",
        "\n",
        "    return t / num_rounds\n",
        "\n",
        "\n",
        "# defines the algorithms to be processed\n",
        "algorithms = [merge_sort]\n",
        "\n",
        "# sizes\n",
        "sizes = [i for i in range(1000, 10001, 1000)]\n",
        "\n",
        "mapSizeToTime = dict()\n",
        "for i in range(len(sizes)):\n",
        "    print(f\"Starting collect {i+1}\")\n",
        "\n",
        "    # map list size to algorithm average time\n",
        "    for algorithm in algorithms:\n",
        "        print(\"  > \", algorithm.__name__)\n",
        "        mapSizeToTime[f\"{algorithm.__name__ }##{sizes[i]}\"] = avgTime(\n",
        "            algorithm, sizes[i], True\n",
        "        )\n",
        "    print(\"\")\n",
        "\n",
        "print(\"Finish data collection\")"
      ]
    },
    {
      "cell_type": "markdown",
      "metadata": {
        "id": "OlZ65f1PNfgL"
      },
      "source": [
        "Formata dados\n"
      ]
    },
    {
      "cell_type": "code",
      "execution_count": null,
      "metadata": {
        "colab": {
          "base_uri": "https://localhost:8080/",
          "height": 363
        },
        "id": "zqBRfMEANgRD",
        "outputId": "2639aeb2-eedb-4b88-e36e-8bed622b6277"
      },
      "outputs": [],
      "source": [
        "import pandas as pd\n",
        "\n",
        "df = pd.DataFrame.from_dict(mapSizeToTime, orient=\"index\", columns=[\"Time\"])\n",
        "df[\"Algorithm\"] = [i.split(\"##\")[0] for i in df.index]\n",
        "df[\"Size\"] = [int(i.split(\"##\")[1]) for i in df.index]\n",
        "df"
      ]
    },
    {
      "cell_type": "markdown",
      "metadata": {
        "id": "SLtnPO-oNgtW"
      },
      "source": [
        "Gráfico\n"
      ]
    },
    {
      "cell_type": "code",
      "execution_count": null,
      "metadata": {
        "colab": {
          "base_uri": "https://localhost:8080/",
          "height": 898
        },
        "id": "3PDBPx6ENg4S",
        "outputId": "f11fcb65-6529-4493-9795-cec660bbdd75"
      },
      "outputs": [],
      "source": [
        "import matplotlib.pyplot as plt\n",
        "import seaborn as sns\n",
        "\n",
        "# Defines font size and line width\n",
        "sns.set_theme(font_scale=1, style=\"ticks\", rc={\"lines.linewidth\": 2})\n",
        "\n",
        "# Defines plot size\n",
        "plt.rcParams[\"figure.figsize\"] = [20, 10]\n",
        "\n",
        "fig = plt.figure()\n",
        "chart = sns.lineplot(x=\"Size\", y=\"Time\", hue=\"Algorithm\", data=df)\n",
        "chart.set_title(f\"Rounds: {num_rounds} <-> Domain: {DOMAIN} <-> Size List: {sizes}\")\n",
        "\n",
        "chart.set(xticks=[i for i in df.Size])\n",
        "plt.savefig(\"results.png\", bbox_inches=\"tight\")"
      ]
    }
  ],
  "metadata": {
    "colab": {
      "provenance": []
    },
    "kernelspec": {
      "display_name": ".venv",
      "language": "python",
      "name": "python3"
    },
    "language_info": {
      "codemirror_mode": {
        "name": "ipython",
        "version": 3
      },
      "file_extension": ".py",
      "mimetype": "text/x-python",
      "name": "python",
      "nbconvert_exporter": "python",
      "pygments_lexer": "ipython3",
      "version": "3.13.2"
    }
  },
  "nbformat": 4,
  "nbformat_minor": 0
}

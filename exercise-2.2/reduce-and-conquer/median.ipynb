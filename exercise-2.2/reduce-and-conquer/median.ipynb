{
 "cells": [
  {
   "cell_type": "markdown",
   "metadata": {
    "id": "kc-BqatvNTFH"
   },
   "source": [
    "Algoritmos\n"
   ]
  },
  {
   "cell_type": "code",
   "execution_count": 4,
   "metadata": {
    "id": "uc3x3OuoNRC8"
   },
   "outputs": [],
   "source": [
    "def insertion_sort(items: list[int]):\n",
    "    len_items = len(items)\n",
    "    for i in range(1, len_items):\n",
    "        j = i\n",
    "        while j > 0 and items[j] < items[j - 1]:\n",
    "            items[j], items[j - 1] = items[j - 1], items[j]\n",
    "            j -= 1\n",
    "\n",
    "\n",
    "def lomuto_partition(\n",
    "    items: list[int],\n",
    "    left: int,\n",
    "    right: int,\n",
    "):\n",
    "    pivot = items[right]\n",
    "    i = left - 1\n",
    "\n",
    "    for j in range(left, right):\n",
    "        if items[j] <= pivot:\n",
    "            i += 1\n",
    "            items[i], items[j] = items[j], items[i]\n",
    "    right_place = i + 1\n",
    "    items[right_place], items[right] = items[right], items[right_place]\n",
    "    return right_place\n",
    "\n",
    "\n",
    "def quick_select(items: list[int], left: int, right: int, k: int):\n",
    "    index = lomuto_partition(items, left, right)\n",
    "    search = k - 1\n",
    "\n",
    "    if index == search:\n",
    "        return items[index]\n",
    "    else:\n",
    "        if index > search:\n",
    "            return quick_select(items, left, index - 1, k)\n",
    "        else:\n",
    "            return quick_select(items, index + 1, right, k)\n",
    "\n",
    "\n",
    "def median_quick(A):\n",
    "    len_arr = len(A)\n",
    "    median = quick_select(A, 0, len_arr - 1, (len_arr // 2) + 1)\n",
    "    return median\n",
    "\n",
    "\n",
    "def median_brute(A):\n",
    "    insertion_sort(A)\n",
    "    median_index = len(A) // 2\n",
    "    median = A[median_index]\n",
    "    return median"
   ]
  },
  {
   "cell_type": "code",
   "execution_count": 5,
   "metadata": {
    "colab": {
     "base_uri": "https://localhost:8080/"
    },
    "id": "rOZsNn2hUBrd",
    "outputId": "01df8053-f0e4-4720-8051-a83330ee0f1a"
   },
   "outputs": [
    {
     "name": "stdout",
     "output_type": "stream",
     "text": [
      "-> Before brutal [3, 9, 4, 7, 1, 2, 8, 5, 6]\n",
      "-> After brutal [1, 2, 3, 4, 5, 6, 7, 8, 9]\n",
      "-> Brutal element = 5\n",
      "-> Brutal index 4\n",
      "-> Before quick [3, 9, 4, 7, 1, 2, 8, 5, 6]\n",
      "-> After quick [3, 4, 1, 2, 5, 6, 8, 9, 7]\n",
      "-> Quick element 5\n",
      "-> Quick index 4\n"
     ]
    }
   ],
   "source": [
    "A = [3, 9, 4, 7, 1, 2, 8, 5, 6]\n",
    "\n",
    "brute_arr = A.copy()\n",
    "\n",
    "print(\"-> Before brutal\", brute_arr)\n",
    "brutal_element = median_brute(brute_arr)\n",
    "print(\"-> After brutal\", brute_arr)\n",
    "print(\"-> Brutal element =\", brutal_element)\n",
    "print(\"-> Brutal index\", len(brute_arr) // 2)\n",
    "\n",
    "quick_arr = A.copy()\n",
    "print(\"-> Before quick\", quick_arr)\n",
    "quick_element = median_quick(quick_arr)\n",
    "print(\"-> After quick\", quick_arr)\n",
    "print(\"-> Quick element\", quick_element)\n",
    "print(\"-> Quick index\", len(quick_arr) // 2)"
   ]
  },
  {
   "cell_type": "markdown",
   "metadata": {
    "id": "Lhhc47nBNWmH"
   },
   "source": [
    "Coleta dados\n"
   ]
  },
  {
   "cell_type": "code",
   "execution_count": 6,
   "metadata": {
    "colab": {
     "base_uri": "https://localhost:8080/"
    },
    "id": "amdWV16iNWyy",
    "outputId": "89e6290b-773a-414e-d770-529f7448e840"
   },
   "outputs": [
    {
     "name": "stdout",
     "output_type": "stream",
     "text": [
      "Starting collect 1\n",
      "  >  median_brute\n",
      "  >  median_quick\n",
      "\n",
      "Starting collect 2\n",
      "  >  median_brute\n",
      "  >  median_quick\n",
      "\n",
      "Starting collect 3\n",
      "  >  median_brute\n",
      "  >  median_quick\n",
      "\n",
      "Starting collect 4\n",
      "  >  median_brute\n",
      "  >  median_quick\n",
      "\n",
      "Starting collect 5\n",
      "  >  median_brute\n",
      "  >  median_quick\n",
      "\n",
      "Finish data collection\n"
     ]
    }
   ],
   "source": [
    "import time\n",
    "from numpy import random\n",
    "\n",
    "\n",
    "# scope of the randomness\n",
    "DOMAIN = 9999999\n",
    "\n",
    "# defines the number of times each algorithm will be processed to find the average time\n",
    "num_rounds = 100\n",
    "\n",
    "alg_results = dict()\n",
    "\n",
    "\n",
    "# calculates the executions average time\n",
    "def avgTime(func, size, debug=False):\n",
    "    t = 0\n",
    "    for i in range(num_rounds):\n",
    "        random.seed(size + i)\n",
    "        # create a list with random numbers\n",
    "        dataList = random.randint(DOMAIN, size=size).tolist()\n",
    "\n",
    "        start = time.time()\n",
    "        m = func(dataList)\n",
    "        end = time.time()\n",
    "        t += end - start\n",
    "\n",
    "        if debug:\n",
    "            sorted_data = sorted(dataList)\n",
    "            correct_median = sorted_data[len(dataList) // 2]\n",
    "            if m != correct_median:\n",
    "                print(\n",
    "                    f\"size={size}, seed={size+i}, m={m} e correct median={correct_median}\"\n",
    "                )\n",
    "            assert m == correct_median\n",
    "\n",
    "    return t / num_rounds\n",
    "\n",
    "\n",
    "# defines the algorithms to be processed\n",
    "algorithms = [median_brute, median_quick]\n",
    "\n",
    "# sizes\n",
    "sizes = [i for i in range(1000, 5001, 1000)]\n",
    "mapSizeToTime = dict()\n",
    "for i in range(len(sizes)):\n",
    "    print(f\"Starting collect {i+1}\")\n",
    "\n",
    "    # map list size to algorithm average time\n",
    "    for algorithm in algorithms:\n",
    "        print(\"  > \", algorithm.__name__)\n",
    "        mapSizeToTime[f\"{algorithm.__name__ }##{sizes[i]}\"] = avgTime(\n",
    "            algorithm, sizes[i], True\n",
    "        )\n",
    "    print(\"\")\n",
    "\n",
    "print(\"Finish data collection\")"
   ]
  },
  {
   "cell_type": "markdown",
   "metadata": {
    "id": "OlZ65f1PNfgL"
   },
   "source": [
    "Formata dados\n"
   ]
  },
  {
   "cell_type": "code",
   "execution_count": 7,
   "metadata": {
    "colab": {
     "base_uri": "https://localhost:8080/",
     "height": 359
    },
    "id": "zqBRfMEANgRD",
    "outputId": "d83a41c8-f9ed-4a9f-8848-126a7a0db9c8"
   },
   "outputs": [
    {
     "data": {
      "text/html": [
       "<div>\n",
       "<style scoped>\n",
       "    .dataframe tbody tr th:only-of-type {\n",
       "        vertical-align: middle;\n",
       "    }\n",
       "\n",
       "    .dataframe tbody tr th {\n",
       "        vertical-align: top;\n",
       "    }\n",
       "\n",
       "    .dataframe thead th {\n",
       "        text-align: right;\n",
       "    }\n",
       "</style>\n",
       "<table border=\"1\" class=\"dataframe\">\n",
       "  <thead>\n",
       "    <tr style=\"text-align: right;\">\n",
       "      <th></th>\n",
       "      <th>Time</th>\n",
       "      <th>Algorithm</th>\n",
       "      <th>Size</th>\n",
       "    </tr>\n",
       "  </thead>\n",
       "  <tbody>\n",
       "    <tr>\n",
       "      <th>median_brute##1000</th>\n",
       "      <td>0.023749</td>\n",
       "      <td>median_brute</td>\n",
       "      <td>1000</td>\n",
       "    </tr>\n",
       "    <tr>\n",
       "      <th>median_quick##1000</th>\n",
       "      <td>0.000147</td>\n",
       "      <td>median_quick</td>\n",
       "      <td>1000</td>\n",
       "    </tr>\n",
       "    <tr>\n",
       "      <th>median_brute##2000</th>\n",
       "      <td>0.101087</td>\n",
       "      <td>median_brute</td>\n",
       "      <td>2000</td>\n",
       "    </tr>\n",
       "    <tr>\n",
       "      <th>median_quick##2000</th>\n",
       "      <td>0.000318</td>\n",
       "      <td>median_quick</td>\n",
       "      <td>2000</td>\n",
       "    </tr>\n",
       "    <tr>\n",
       "      <th>median_brute##3000</th>\n",
       "      <td>0.233412</td>\n",
       "      <td>median_brute</td>\n",
       "      <td>3000</td>\n",
       "    </tr>\n",
       "    <tr>\n",
       "      <th>median_quick##3000</th>\n",
       "      <td>0.000463</td>\n",
       "      <td>median_quick</td>\n",
       "      <td>3000</td>\n",
       "    </tr>\n",
       "    <tr>\n",
       "      <th>median_brute##4000</th>\n",
       "      <td>0.408072</td>\n",
       "      <td>median_brute</td>\n",
       "      <td>4000</td>\n",
       "    </tr>\n",
       "    <tr>\n",
       "      <th>median_quick##4000</th>\n",
       "      <td>0.000598</td>\n",
       "      <td>median_quick</td>\n",
       "      <td>4000</td>\n",
       "    </tr>\n",
       "    <tr>\n",
       "      <th>median_brute##5000</th>\n",
       "      <td>0.606840</td>\n",
       "      <td>median_brute</td>\n",
       "      <td>5000</td>\n",
       "    </tr>\n",
       "    <tr>\n",
       "      <th>median_quick##5000</th>\n",
       "      <td>0.000798</td>\n",
       "      <td>median_quick</td>\n",
       "      <td>5000</td>\n",
       "    </tr>\n",
       "  </tbody>\n",
       "</table>\n",
       "</div>"
      ],
      "text/plain": [
       "                        Time     Algorithm  Size\n",
       "median_brute##1000  0.023749  median_brute  1000\n",
       "median_quick##1000  0.000147  median_quick  1000\n",
       "median_brute##2000  0.101087  median_brute  2000\n",
       "median_quick##2000  0.000318  median_quick  2000\n",
       "median_brute##3000  0.233412  median_brute  3000\n",
       "median_quick##3000  0.000463  median_quick  3000\n",
       "median_brute##4000  0.408072  median_brute  4000\n",
       "median_quick##4000  0.000598  median_quick  4000\n",
       "median_brute##5000  0.606840  median_brute  5000\n",
       "median_quick##5000  0.000798  median_quick  5000"
      ]
     },
     "execution_count": 7,
     "metadata": {},
     "output_type": "execute_result"
    }
   ],
   "source": [
    "import pandas as pd\n",
    "\n",
    "df = pd.DataFrame.from_dict(mapSizeToTime, orient=\"index\", columns=[\"Time\"])\n",
    "df[\"Algorithm\"] = [i.split(\"##\")[0] for i in df.index]\n",
    "df[\"Size\"] = [int(i.split(\"##\")[1]) for i in df.index]\n",
    "df"
   ]
  },
  {
   "cell_type": "markdown",
   "metadata": {
    "id": "SLtnPO-oNgtW"
   },
   "source": [
    "Gráfico\n"
   ]
  },
  {
   "cell_type": "code",
   "execution_count": 10,
   "metadata": {
    "colab": {
     "base_uri": "https://localhost:8080/",
     "height": 628
    },
    "id": "3PDBPx6ENg4S",
    "outputId": "feca2511-70da-44b8-9735-aa390ed46a60"
   },
   "outputs": [
    {
     "data": {
      "image/png": "[encoded data removed]",
      "text/plain": [
       "<Figure size 2000x1000 with 1 Axes>"
      ]
     },
     "metadata": {},
     "output_type": "display_data"
    }
   ],
   "source": [
    "import seaborn as sns\n",
    "import matplotlib.pyplot as plt\n",
    "\n",
    "# Defines font size and line width\n",
    "sns.set_theme(font_scale=1, style=\"ticks\", rc={\"lines.linewidth\": 2})\n",
    "\n",
    "# Defines plot size\n",
    "plt.rcParams[\"figure.figsize\"] = [20, 10]\n",
    "\n",
    "fig = plt.figure()\n",
    "chart = sns.lineplot(x=\"Size\", y=\"Time\", hue=\"Algorithm\", data=df)\n",
    "plt.title(f\"Rounds: {num_rounds} <-> Domain: {DOMAIN} <-> Size List: {sizes}\")\n",
    "\n",
    "chart.set(xticks=[i for i in df.Size])\n",
    "\n",
    "plt.savefig(\"median.png\", bbox_inches=\"tight\")"
   ]
  }
 ],
 "metadata": {
  "colab": {
   "provenance": []
  },
  "kernelspec": {
   "display_name": ".venv",
   "language": "python",
   "name": "python3"
  },
  "language_info": {
   "codemirror_mode": {
    "name": "ipython",
    "version": 3
   },
   "file_extension": ".py",
   "mimetype": "text/x-python",
   "name": "python",
   "nbconvert_exporter": "python",
   "pygments_lexer": "ipython3",
   "version": "3.13.2"
  }
 },
 "nbformat": 4,
 "nbformat_minor": 0
}

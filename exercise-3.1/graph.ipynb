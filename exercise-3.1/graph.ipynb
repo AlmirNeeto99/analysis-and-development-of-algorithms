{
  "nbformat": 4,
  "nbformat_minor": 0,
  "metadata": {
    "colab": {
      "name": "Atividade5.ipynb",
      "provenance": [],
      "collapsed_sections": []
    },
    "kernelspec": {
      "name": "python3",
      "display_name": "Python 3"
    }
  },
  "cells": [
    {
      "cell_type": "markdown",
      "metadata": {
        "id": "EoORkOphIMc-"
      },
      "source": [
        "Algoritmos"
      ]
    },
    {
      "cell_type": "code",
      "metadata": {
        "id": "dwcSIPydC8pn"
      },
      "source": [
        "from heapq import heappush, heappop\n",
        "\n",
        "class Graph:\n",
        "  def __init__(self):\n",
        "    self.vertexMap = dict()           \n",
        "\n",
        "  def addVertex(self, v):\n",
        "    self.vertexMap[v] = dict()\n",
        "\n",
        "  def removeVertex(self, v):  \n",
        "    if v in self.vertexMap:\n",
        "      for (i,j) in self.vertexMap[v].copy():\n",
        "        print(f\"e->{(i,j)}\")\n",
        "        self.removeEdge(i,j)\n",
        "      del self.vertexMap[v]\n",
        "\n",
        "  def vertices(self):    \n",
        "    return list(self.vertexMap.keys())\n",
        "\n",
        "  def adjacents(self, v):\n",
        "    return [j for (i, j) in self.outgoing(v)]   \n",
        "\n",
        "  def addEdge(self,u,v,data):\n",
        "    if (u in self.vertexMap) and (v in self.vertexMap):\n",
        "      self.vertexMap[u][(u,v)] = data\n",
        "      self.vertexMap[v][(v,u)] = data\n",
        "    else:\n",
        "      raise ValueError(f\"One or both of the V {u} and {v} are not present in the Graph!\")  \n",
        "\n",
        "  def removeEdge(self,u,v):\n",
        "    if ((u,v) in self.vertexMap[u]) and ((v,u) in self.vertexMap[v]):\n",
        "      del self.vertexMap[u][(u,v)]      \n",
        "      del self.vertexMap[v][(v,u)]  \n",
        "\n",
        "  def edges(self):\n",
        "    return [list(e.keys()) for e in self.vertexMap.values() if len(e.keys())]\n",
        "\n",
        "  def getEdge(self,u,v):\n",
        "    return self.vertexMap[u][(u,v)]\n",
        "\n",
        "  def outgoing(self, v):\n",
        "    return list(self.vertexMap[v].keys())  \n",
        "\n",
        "  def outdegree(self, v):\n",
        "    return len(self.vertexMap[v])\n",
        "\n",
        "  def incoming(self, v):\n",
        "    return [(j,i) for (i,j) in self.vertexMap[v]] \n",
        "\n",
        "  def indegree(self, v):\n",
        "    return len(self.vertexMap[v])\n",
        "\n",
        "#To do\n",
        "def dfs(G,v):\n",
        "\n",
        "#To do\n",
        "def bfs(G,v):\n",
        "  \n",
        "#To do  \n",
        "def dijkstra(G,v,u):\n",
        "  "
      ],
      "execution_count": null,
      "outputs": []
    },
    {
      "cell_type": "code",
      "metadata": {
        "id": "alMN9rQ5Xhm8",
        "colab": {
          "base_uri": "https://localhost:8080/"
        },
        "outputId": "37e0d592-0ce3-48e9-e560-c425d11ee830"
      },
      "source": [
        "g = Graph()\n",
        "g.addVertex(\"a\")\n",
        "g.addVertex(\"b\")\n",
        "g.addVertex(\"c\")\n",
        "g.addVertex(\"d\")\n",
        "g.addVertex(\"e\")\n",
        "g.addVertex(\"f\")\n",
        "g.addVertex(\"g\")\n",
        "g.addVertex(\"h\")\n",
        "g.addVertex(\"i\")\n",
        "g.addVertex(\"j\")\n",
        "g.addVertex(\"k\")\n",
        "g.addVertex(\"l\")\n",
        "g.addVertex(\"m\")\n",
        "g.addVertex(\"n\")\n",
        "g.addVertex(\"o\")\n",
        "g.addVertex(\"p\")\n",
        "g.addEdge(\"a\",\"b\",1)\n",
        "g.addEdge(\"a\",\"e\",1)\n",
        "g.addEdge(\"a\",\"f\",1)\n",
        "g.addEdge(\"b\",\"c\",1)\n",
        "g.addEdge(\"b\",\"f\",1)\n",
        "g.addEdge(\"c\",\"d\",1)\n",
        "g.addEdge(\"c\",\"g\",1)\n",
        "g.addEdge(\"d\",\"g\",1)\n",
        "g.addEdge(\"d\",\"h\",1)\n",
        "g.addEdge(\"e\",\"f\",1)\n",
        "g.addEdge(\"e\",\"i\",1)\n",
        "g.addEdge(\"f\",\"i\",1)\n",
        "g.addEdge(\"g\",\"l\",1)\n",
        "g.addEdge(\"g\",\"k\",1)\n",
        "g.addEdge(\"g\",\"j\",1)\n",
        "g.addEdge(\"h\",\"l\",1)\n",
        "g.addEdge(\"i\",\"m\",1)\n",
        "g.addEdge(\"i\",\"n\",1)\n",
        "g.addEdge(\"i\",\"j\",1)\n",
        "g.addEdge(\"j\",\"k\",1)\n",
        "g.addEdge(\"k\",\"o\",1)\n",
        "g.addEdge(\"l\",\"p\",1)\n",
        "g.addEdge(\"m\",\"n\",1)\n",
        "g.addEdge(\"n\",\"k\",1)\n",
        "\n",
        "\n",
        "assert dfs(g,'a') == ['b', 'c', 'd', 'g', 'l', 'h', 'p', 'k', 'j', 'i', 'e', 'f', 'm', 'n', 'o']\n",
        "\n",
        "assert bfs(g,'a') == ['b', 'e', 'f', 'c', 'i', 'd', 'g', 'm', 'n', 'j', 'h', 'l', 'k', 'p', 'o']\n",
        "\n",
        "assert dijkstra(g, 'a','g') == ['a', 'b', 'c', 'g']\n",
        "\n",
        "assert dijkstra(g, 'a','j') == ['a', 'e', 'i', 'j']\n",
        "\n",
        "assert dijkstra(g, 'a','l') == ['a', 'b', 'c', 'g', 'l']\n",
        "\n",
        "assert dijkstra(g, 'a','i') == ['a', 'e', 'i']\n",
        "\n",
        "print(\"Parabéns!!! Atividade concluída com sucesso!\")\n"
      ],
      "execution_count": null,
      "outputs": [
        {
          "output_type": "stream",
          "text": [
            "Parabéns!!! Atividade concluída com sucesso!\n"
          ],
          "name": "stdout"
        }
      ]
    }
  ]
}